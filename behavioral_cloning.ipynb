{
 "cells": [
  {
   "cell_type": "code",
   "execution_count": 1,
   "metadata": {
    "collapsed": false
   },
   "outputs": [],
   "source": [
    "import numpy as np\n",
    "import pandas as pd\n",
    "import os\n",
    "import matplotlib.pyplot as plt\n",
    "from IPython.display import display"
   ]
  },
  {
   "cell_type": "code",
   "execution_count": 2,
   "metadata": {
    "collapsed": true
   },
   "outputs": [],
   "source": [
    "def load_images_from_folder(X_train_names):\n",
    "    images = []\n",
    "    for filename in X_train_names:\n",
    "        img = plt.imread(filename)\n",
    "        if img is not None:\n",
    "            images.append(img)\n",
    "    return images\n",
    "\n",
    "def load_data_from_folder(folder_name):\n",
    "    driving_log = pd.DataFrame.from_csv('./' + folder_name + '/driving_log.csv', index_col=None)\n",
    "    driving_log.columns = ['Center Image', 'Left Image', 'Right Image', 'Steering Angle', 'Throttle', 'Break', 'Speed']\n",
    "    \n",
    "    X_train_center = [\"./\" + folder_name + \"/\" + x for x in driving_log['Center Image'].values.tolist()]\n",
    "    X_train_center = np.asarray(load_images_from_folder(X_train_center))\n",
    "\n",
    "    X_train_left = [\"./\" + folder_name + \"/\" + x[1:] for x in driving_log['Left Image'].values.tolist()]\n",
    "    X_train_left = np.asarray(load_images_from_folder(X_train_left))\n",
    "\n",
    "    X_train_right = [\"./\" + folder_name + \"/\" + x[1:] for x in driving_log['Right Image'].values.tolist()]\n",
    "    X_train_right = np.asarray(load_images_from_folder(X_train_right))\n",
    "\n",
    "    X_train = np.concatenate((X_train_center, X_train_left, X_train_right), axis=0)\n",
    "\n",
    "    y_train = driving_log['Steering Angle'].values.tolist()\n",
    "\n",
    "    y_train_center = y_train\n",
    "    y_train_left = [x + 0.25 for x in y_train]\n",
    "    y_train_right = [x - 0.25 for x in y_train]\n",
    "    \n",
    "    y_train = np.asarray(y_train_center + y_train_left + y_train_right)\n",
    "    \n",
    "    return X_train, y_train"
   ]
  },
  {
   "cell_type": "code",
   "execution_count": 3,
   "metadata": {
    "collapsed": true
   },
   "outputs": [],
   "source": [
    "X_train_udacity, y_train_udacity = load_data_from_folder('udacity_data')"
   ]
  },
  {
   "cell_type": "code",
   "execution_count": 4,
   "metadata": {
    "collapsed": false
   },
   "outputs": [],
   "source": [
    "X_train_bc, y_train_bc = load_data_from_folder('bc_data')"
   ]
  },
  {
   "cell_type": "code",
   "execution_count": 5,
   "metadata": {
    "collapsed": true
   },
   "outputs": [],
   "source": [
    "X_train, y_train = np.concatenate((X_train_udacity, X_train_bc), axis=0), np.concatenate((y_train_udacity, y_train_bc), axis=0)"
   ]
  },
  {
   "cell_type": "code",
   "execution_count": 6,
   "metadata": {
    "collapsed": true
   },
   "outputs": [],
   "source": [
    "del X_train_bc\n",
    "del y_train_bc"
   ]
  },
  {
   "cell_type": "code",
   "execution_count": 7,
   "metadata": {
    "collapsed": false
   },
   "outputs": [
    {
     "name": "stdout",
     "output_type": "stream",
     "text": [
      "(128214, 160, 320, 3)\n",
      "(128214,)\n"
     ]
    }
   ],
   "source": [
    "print(X_train.shape)\n",
    "print(y_train.shape)"
   ]
  },
  {
   "cell_type": "code",
   "execution_count": null,
   "metadata": {
    "collapsed": true
   },
   "outputs": [],
   "source": [
    "import pickle\n",
    "\n",
    "with open('X_train_pca_crop_normalized.pickle', 'wb') as handle:\n",
    "    pickle.dump(X_train, handle, protocol=pickle.HIGHEST_PROTOCOL)\n",
    "with open('y_train.pickle', 'wb') as handle:\n",
    "    pickle.dump(y_train, handle, protocol=pickle.HIGHEST_PROTOCOL)"
   ]
  },
  {
   "cell_type": "code",
   "execution_count": 2,
   "metadata": {
    "collapsed": false
   },
   "outputs": [],
   "source": [
    "import pickle\n",
    "\n",
    "with open('X_train_pca_crop_normalized.pickle', 'rb') as handle:\n",
    "    X_train = pickle.load(handle)\n",
    "    \n",
    "with open('y_train.pickle', 'rb') as handle:\n",
    "    y_train = pickle.load(handle)"
   ]
  },
  {
   "cell_type": "code",
   "execution_count": null,
   "metadata": {
    "collapsed": false
   },
   "outputs": [],
   "source": [
    "from sklearn.decomposition import PCA\n",
    "\n",
    "def pca_gray_single_image(image):\n",
    "    imshape = image.shape\n",
    "    temp = image.reshape(imshape[0] * imshape[1], 3)\n",
    "\n",
    "    pca = PCA(n_components=1, whiten=True)\n",
    "    pca.fit(temp)\n",
    "    \n",
    "    temp2 = image.reshape(imshape[0] * imshape[1], 3)\n",
    "    temp2 = pca.transform(temp2)\n",
    "    temp2 = temp2.reshape(imshape[0], imshape[1])\n",
    "\n",
    "    return temp2\n",
    "    \n",
    "def crop_single_image(image):\n",
    "    return image[70:][:][:-20][:]\n",
    "\n",
    "def crop_sky_and_front_cover(image_data):\n",
    "    return np.apply_along_axis(crop_single_image, axis=1, arr=image_data)\n",
    "\n",
    "def normalize(image_data):\n",
    "    max_val = 255\n",
    "    min_val = 0\n",
    "    a = -0.5\n",
    "    b = 0.5\n",
    "    \n",
    "    return a + ((image_data - min_val) * (b - a)) / (max_val - min_val)\n",
    "\n",
    "def preprocess(image_data):\n",
    "    if len(image_data.shape) == 4:\n",
    "        # Batch process\n",
    "        image_data_pca = []\n",
    "    \n",
    "        for image in image_data:\n",
    "            image_data_pca.append(pca_gray_single_image(image))\n",
    "        \n",
    "        image_data_pca = np.asarray(image_data_pca)\n",
    "        \n",
    "        cropped = crop_sky_and_front_cover(image_data_pca)\n",
    "    \n",
    "    elif len(image_data.shape) == 3:\n",
    "        image_data_pca = pca_gray_single_image(image_data)\n",
    "        cropped =  crop_single_image(image_data_pca)\n",
    "    \n",
    "    else:\n",
    "        raise TypeError(\"Wrong image shape!\")\n",
    "    \n",
    "    # Normalize data\n",
    "    normalized = normalize(cropped)\n",
    "    \n",
    "    return normalized"
   ]
  },
  {
   "cell_type": "code",
   "execution_count": null,
   "metadata": {
    "collapsed": true
   },
   "outputs": [],
   "source": [
    "import random\n",
    "\n",
    "def batch_generator(features, labels, batch_size):\n",
    "    # Create empty arrays to contain batch of features and labels#\n",
    "    batch_features = np.zeros((batch_size, 70, 320, 1))\n",
    "    batch_labels = np.zeros((batch_size,),)\n",
    "    \n",
    "    while 1:\n",
    "        for i in range(batch_size):\n",
    "            #choose random index in features\n",
    "            index = random.randint(0, len(features) - 1)\n",
    "            batch_features[i] = np.expand_dims(preprocess(features[index]), axis=2)\n",
    "            batch_labels[i] = labels[index]\n",
    "            \n",
    "        yield batch_features, batch_labels"
   ]
  },
  {
   "cell_type": "code",
   "execution_count": null,
   "metadata": {
    "collapsed": true
   },
   "outputs": [],
   "source": [
    "# X_train_reshape = []\n",
    "\n",
    "# for image in X_train:\n",
    "#     X_train_reshape.append(np.expand_dims(image, axis=2))\n",
    "\n",
    "# X_train = np.asarray(X_train_reshape)"
   ]
  },
  {
   "cell_type": "code",
   "execution_count": null,
   "metadata": {
    "collapsed": false
   },
   "outputs": [],
   "source": [
    "# import matplotlib.pyplot as plt\n",
    "# import numpy as np\n",
    "\n",
    "# test = X_train[0]\n",
    "# print(test.shape)\n",
    "# temp = test.reshape(test.shape[0], test.shape[1])\n",
    "# print(temp.shape)\n",
    "\n",
    "# back = np.expand_dims(temp, axis=2)\n",
    "# print(back.shape)\n",
    "\n",
    "# temp = back\n",
    "# temp = test.reshape(test.shape[0], test.shape[1])\n",
    "# print(temp.shape)"
   ]
  },
  {
   "cell_type": "code",
   "execution_count": null,
   "metadata": {
    "collapsed": false
   },
   "outputs": [],
   "source": [
    "# from sklearn.utils import shuffle\n",
    "\n",
    "# X_train, y_train = shuffle(X_train, y_train, random_state=13)"
   ]
  },
  {
   "cell_type": "code",
   "execution_count": null,
   "metadata": {
    "collapsed": false
   },
   "outputs": [],
   "source": [
    "from keras.models import Sequential\n",
    "from keras.layers.core import Dense, Activation, Flatten, Dropout\n",
    "from keras.layers.convolutional import Convolution2D\n",
    "from keras.layers.pooling import MaxPooling2D\n",
    "from keras.layers.advanced_activations import ELU, LeakyReLU\n",
    "\n",
    "conv_drop = 0.5\n",
    "fc_drop = 0.5\n",
    "\n",
    "model = Sequential()\n",
    "model.add(Convolution2D(32, 3, 3, input_shape=(70, 320, 1)))\n",
    "model.add(Convolution2D(32, 3, 3))\n",
    "model.add(MaxPooling2D((2, 2)))\n",
    "model.add(Dropout(conv_drop))\n",
    "model.add(ELU())\n",
    "\n",
    "model.add(Convolution2D(64, 3, 3))\n",
    "model.add(Convolution2D(64, 3, 3))\n",
    "model.add(MaxPooling2D((2, 2)))\n",
    "model.add(Dropout(conv_drop))\n",
    "model.add(ELU())\n",
    "\n",
    "model.add(Convolution2D(128, 3, 3))\n",
    "model.add(Convolution2D(128, 3, 3))\n",
    "model.add(MaxPooling2D((2, 2)))\n",
    "model.add(Dropout(conv_drop))\n",
    "model.add(ELU())\n",
    "\n",
    "model.add(Flatten())\n",
    "\n",
    "model.add(Dense(512))\n",
    "model.add(Dropout(fc_drop))\n",
    "model.add(ELU())\n",
    "\n",
    "model.add(Dense(64))\n",
    "model.add(Dropout(fc_drop))\n",
    "model.add(ELU())\n",
    "\n",
    "model.add(Dense(16))\n",
    "model.add(Dropout(fc_drop))\n",
    "model.add(LeakyReLU())\n",
    "\n",
    "model.add(Dense(1))"
   ]
  },
  {
   "cell_type": "code",
   "execution_count": 14,
   "metadata": {
    "collapsed": false
   },
   "outputs": [],
   "source": [
    "# from keras.models import Sequential\n",
    "# from keras.layers.core import Dense, Activation, Flatten, Dropout\n",
    "# from keras.layers.convolutional import Convolution2D\n",
    "# from keras.layers.pooling import MaxPooling2D\n",
    "# from keras.layers.advanced_activations import ELU, LeakyReLU\n",
    "\n",
    "# # Hyperparameters\n",
    "# batch_size = 32\n",
    "# EPOCH = 20\n",
    "\n",
    "# fc_drop = 0.5\n",
    "\n",
    "# model = Sequential()\n",
    "# model.add(Convolution2D(24, 5, 5, input_shape=(160, 320, 3)))\n",
    "# model.add(MaxPooling2D((2, 2)))\n",
    "# # model.add(Activation('relu'))\n",
    "# # model.add(LeakyReLU())\n",
    "# model.add(ELU())\n",
    "\n",
    "# model.add(Convolution2D(36, 5, 5))\n",
    "# model.add(MaxPooling2D((2, 2)))\n",
    "# # model.add(Dropout(0.5))\n",
    "# # model.add(Activation('relu'))\n",
    "# # model.add(LeakyReLU())\n",
    "# model.add(ELU())\n",
    "\n",
    "# model.add(Convolution2D(48, 5, 5))\n",
    "# model.add(MaxPooling2D((2, 2)))\n",
    "# # model.add(Dropout(0.5))\n",
    "# # model.add(Activation('relu'))\n",
    "# # model.add(LeakyReLU())\n",
    "# model.add(ELU())\n",
    "\n",
    "# model.add(Convolution2D(64, 3, 3))\n",
    "# model.add(MaxPooling2D((2, 2)))\n",
    "# # model.add(Dropout(0.5))\n",
    "# # model.add(Activation('relu'))\n",
    "# # model.add(LeakyReLU())\n",
    "# model.add(ELU())\n",
    "\n",
    "# model.add(Convolution2D(64, 3, 3))\n",
    "# model.add(MaxPooling2D((2, 2)))\n",
    "# # model.add(Dropout(0.5))\n",
    "# # model.add(Activation('relu'))\n",
    "# # model.add(LeakyReLU())\n",
    "# model.add(ELU())\n",
    "\n",
    "# model.add(Flatten())\n",
    "\n",
    "# model.add(Dense(1164))\n",
    "# model.add(Dropout(fc_drop))\n",
    "# # model.add(Activation('relu'))\n",
    "# # model.add(LeakyReLU())\n",
    "# model.add(ELU())\n",
    "\n",
    "# model.add(Dense(100))\n",
    "# model.add(Dropout(fc_drop))\n",
    "# # model.add(Activation('relu'))\n",
    "# # model.add(LeakyReLU())\n",
    "# model.add(ELU())\n",
    "\n",
    "# model.add(Dense(50))\n",
    "# model.add(Dropout(fc_drop))\n",
    "# # model.add(Activation('relu'))\n",
    "# # model.add(LeakyReLU())\n",
    "# model.add(ELU())\n",
    "\n",
    "# model.add(Dense(10))\n",
    "# model.add(Dropout(fc_drop))\n",
    "# # model.add(Activation('relu'))\n",
    "# # model.add(LeakyReLU())\n",
    "# model.add(ELU())\n",
    "\n",
    "# model.add(Dense(1))"
   ]
  },
  {
   "cell_type": "code",
   "execution_count": 5,
   "metadata": {
    "collapsed": false
   },
   "outputs": [
    {
     "name": "stderr",
     "output_type": "stream",
     "text": [
      "Using TensorFlow backend.\n"
     ]
    },
    {
     "name": "stdout",
     "output_type": "stream",
     "text": [
      "Loaded model from disk\n"
     ]
    }
   ],
   "source": [
    "# import json\n",
    "# from keras.models import model_from_json\n",
    "\n",
    "# # load json and create model\n",
    "# json_file = open('model.json', 'r')\n",
    "# loaded_model_json = json.loads(json_file.read())\n",
    "# json_file.close()\n",
    "# model = model_from_json(loaded_model_json)\n",
    "# # load weights into new model\n",
    "# model.load_weights(\"model.h5\")\n",
    "# print(\"Loaded model from disk\")"
   ]
  },
  {
   "cell_type": "code",
   "execution_count": 33,
   "metadata": {
    "collapsed": false,
    "scrolled": true
   },
   "outputs": [
    {
     "name": "stdout",
     "output_type": "stream",
     "text": [
      "Epoch 1/3\n",
      "10/10 [==============================] - 14s - loss: 0.8260     \n",
      "Epoch 2/3\n",
      "10/10 [==============================] - 0s - loss: 1.5759     \n",
      "Epoch 3/3\n",
      "10/10 [==============================] - 0s - loss: 0.2297     \n"
     ]
    }
   ],
   "source": [
    "from keras.optimizers import Adam\n",
    "\n",
    "# Hyperparameters\n",
    "batch_size = 64\n",
    "EPOCH = 5\n",
    "\n",
    "# initialize generators\n",
    "training_samples_gen = batch_generator(X_train, y_train, batch_size=128)\n",
    "validation_samples_gen = batch_generator(X_train_udacity, y_train_udacity, batch_size=128)\n",
    "\n",
    "# train model\n",
    "model.fit_generator(\n",
    "    my_samples_gen,\n",
    "    samples_per_epoch=128*188, nb_epoch=EPOCHS,\n",
    "    validation_data=u_samples_gen,\n",
    "    nb_val_samples=24000,\n",
    "    callbacks=[early_stop, checkpoint]\n",
    ")\n",
    "adam = Adam(lr=0.0001)\n",
    "model.compile(loss='mean_squared_error', optimizer=adam)\n",
    "# history = model.fit(X_train, y_train, batch_size=batch_size, nb_epoch=EPOCH, validation_split=0.2)\n",
    "history = model.fit_generator(batch_generator(X_train, y_train, 5), samples_per_epoch=10000, nb_epoch=10, validation_data=validation_samples_gen, nb_val_samples=24000,)"
   ]
  },
  {
   "cell_type": "code",
   "execution_count": 13,
   "metadata": {
    "collapsed": false,
    "scrolled": true
   },
   "outputs": [],
   "source": [
    "# score = model.evaluate(X_test, y_test, batch_size=batch_size)\n",
    "# print('Test score (MSE): ', score)\n",
    "# predictions = model.predict(X_test)\n",
    "# print('predictions: ', predictions[:32])\n",
    "# print('actual: ', y_test[:32])"
   ]
  },
  {
   "cell_type": "code",
   "execution_count": 7,
   "metadata": {
    "collapsed": false
   },
   "outputs": [
    {
     "name": "stdout",
     "output_type": "stream",
     "text": [
      "dict_keys(['loss', 'val_loss'])\n"
     ]
    },
    {
     "data": {
      "image/png": "[encoded data removed]",
      "text/plain": [
       "<matplotlib.figure.Figure at 0x7fe65537fc18>"
      ]
     },
     "metadata": {},
     "output_type": "display_data"
    }
   ],
   "source": [
    "# list all data in history\n",
    "print(history.history.keys())\n",
    "# # summarize history for accuracy\n",
    "# plt.plot(history.history['loss'])\n",
    "# plt.plot(history.history['val_loss'])\n",
    "# plt.title('model loss')\n",
    "# plt.ylabel('loss')\n",
    "# plt.xlabel('epoch')\n",
    "# plt.legend(['train', 'val'], loc='upper left')\n",
    "# plt.show()\n",
    "# summarize history for loss\n",
    "plt.plot(history.history['loss'])\n",
    "plt.plot(history.history['val_loss'])\n",
    "plt.title('model loss')\n",
    "plt.ylabel('loss')\n",
    "plt.xlabel('epoch')\n",
    "plt.legend(['train', 'test'], loc='upper left')\n",
    "plt.show()"
   ]
  },
  {
   "cell_type": "code",
   "execution_count": 8,
   "metadata": {
    "collapsed": false
   },
   "outputs": [],
   "source": [
    "import json\n",
    "with open('model.json', 'w') as outfile:\n",
    "    json.dump(model.to_json(), outfile)"
   ]
  },
  {
   "cell_type": "code",
   "execution_count": 9,
   "metadata": {
    "collapsed": true
   },
   "outputs": [],
   "source": [
    "model.save_weights('model.h5')"
   ]
  },
  {
   "cell_type": "code",
   "execution_count": 20,
   "metadata": {
    "collapsed": false,
    "scrolled": true
   },
   "outputs": [
    {
     "name": "stdout",
     "output_type": "stream",
     "text": [
      "____________________________________________________________________________________________________\n",
      "Layer (type)                     Output Shape          Param #     Connected to                     \n",
      "====================================================================================================\n",
      "convolution2d_1 (Convolution2D)  (None, 68, 318, 32)   320         convolution2d_input_1[0][0]      \n",
      "____________________________________________________________________________________________________\n",
      "convolution2d_2 (Convolution2D)  (None, 66, 316, 32)   9248        convolution2d_1[0][0]            \n",
      "____________________________________________________________________________________________________\n",
      "maxpooling2d_1 (MaxPooling2D)    (None, 33, 158, 32)   0           convolution2d_2[0][0]            \n",
      "____________________________________________________________________________________________________\n",
      "dropout_1 (Dropout)              (None, 33, 158, 32)   0           maxpooling2d_1[0][0]             \n",
      "____________________________________________________________________________________________________\n",
      "elu_1 (ELU)                      (None, 33, 158, 32)   0           dropout_1[0][0]                  \n",
      "____________________________________________________________________________________________________\n",
      "convolution2d_3 (Convolution2D)  (None, 31, 156, 64)   18496       elu_1[0][0]                      \n",
      "____________________________________________________________________________________________________\n",
      "convolution2d_4 (Convolution2D)  (None, 29, 154, 64)   36928       convolution2d_3[0][0]            \n",
      "____________________________________________________________________________________________________\n",
      "maxpooling2d_2 (MaxPooling2D)    (None, 14, 77, 64)    0           convolution2d_4[0][0]            \n",
      "____________________________________________________________________________________________________\n",
      "dropout_2 (Dropout)              (None, 14, 77, 64)    0           maxpooling2d_2[0][0]             \n",
      "____________________________________________________________________________________________________\n",
      "elu_2 (ELU)                      (None, 14, 77, 64)    0           dropout_2[0][0]                  \n",
      "____________________________________________________________________________________________________\n",
      "convolution2d_5 (Convolution2D)  (None, 12, 75, 128)   73856       elu_2[0][0]                      \n",
      "____________________________________________________________________________________________________\n",
      "convolution2d_6 (Convolution2D)  (None, 10, 73, 128)   147584      convolution2d_5[0][0]            \n",
      "____________________________________________________________________________________________________\n",
      "maxpooling2d_3 (MaxPooling2D)    (None, 5, 36, 128)    0           convolution2d_6[0][0]            \n",
      "____________________________________________________________________________________________________\n",
      "dropout_3 (Dropout)              (None, 5, 36, 128)    0           maxpooling2d_3[0][0]             \n",
      "____________________________________________________________________________________________________\n",
      "elu_3 (ELU)                      (None, 5, 36, 128)    0           dropout_3[0][0]                  \n",
      "____________________________________________________________________________________________________\n",
      "flatten_1 (Flatten)              (None, 23040)         0           elu_3[0][0]                      \n",
      "____________________________________________________________________________________________________\n",
      "dense_1 (Dense)                  (None, 512)           11796992    flatten_1[0][0]                  \n",
      "____________________________________________________________________________________________________\n",
      "dropout_4 (Dropout)              (None, 512)           0           dense_1[0][0]                    \n",
      "____________________________________________________________________________________________________\n",
      "elu_4 (ELU)                      (None, 512)           0           dropout_4[0][0]                  \n",
      "____________________________________________________________________________________________________\n",
      "dense_2 (Dense)                  (None, 64)            32832       elu_4[0][0]                      \n",
      "____________________________________________________________________________________________________\n",
      "dropout_5 (Dropout)              (None, 64)            0           dense_2[0][0]                    \n",
      "____________________________________________________________________________________________________\n",
      "elu_5 (ELU)                      (None, 64)            0           dropout_5[0][0]                  \n",
      "____________________________________________________________________________________________________\n",
      "dense_3 (Dense)                  (None, 16)            1040        elu_5[0][0]                      \n",
      "____________________________________________________________________________________________________\n",
      "dropout_6 (Dropout)              (None, 16)            0           dense_3[0][0]                    \n",
      "____________________________________________________________________________________________________\n",
      "leakyrelu_1 (LeakyReLU)          (None, 16)            0           dropout_6[0][0]                  \n",
      "____________________________________________________________________________________________________\n",
      "dense_4 (Dense)                  (None, 1)             17          leakyrelu_1[0][0]                \n",
      "====================================================================================================\n",
      "Total params: 12,117,313\n",
      "Trainable params: 12,117,313\n",
      "Non-trainable params: 0\n",
      "____________________________________________________________________________________________________\n"
     ]
    }
   ],
   "source": [
    "model.summary()"
   ]
  },
  {
   "cell_type": "code",
   "execution_count": 1,
   "metadata": {
    "collapsed": true
   },
   "outputs": [],
   "source": [
    "import numpy as np\n",
    "import pandas as pd\n",
    "import os\n",
    "import matplotlib.pyplot as plt"
   ]
  },
  {
   "cell_type": "code",
   "execution_count": 2,
   "metadata": {
    "collapsed": true
   },
   "outputs": [],
   "source": [
    "# First Turn and the black tunnel\n",
    "ft_driving_log = pd.DataFrame.from_csv('./first_turn_data/driving_log.csv', index_col=None)\n",
    "ft_driving_log.columns = ['Center Image', 'Left Image', 'Right Image', 'Steering Angle', 'Throttle', 'Break', 'Speed']"
   ]
  },
  {
   "cell_type": "code",
   "execution_count": 3,
   "metadata": {
    "collapsed": false
   },
   "outputs": [
    {
     "data": {
      "text/plain": [
       "(904, 7)"
      ]
     },
     "execution_count": 3,
     "metadata": {},
     "output_type": "execute_result"
    }
   ],
   "source": [
    "ft_driving_log.shape"
   ]
  },
  {
   "cell_type": "code",
   "execution_count": 4,
   "metadata": {
    "collapsed": false
   },
   "outputs": [],
   "source": [
    "X_train_names_ft = ft_driving_log['Center Image'].values.tolist()"
   ]
  },
  {
   "cell_type": "code",
   "execution_count": 5,
   "metadata": {
    "collapsed": true
   },
   "outputs": [],
   "source": [
    "def load_images_from_folder(X_train_names):\n",
    "    images = []\n",
    "    for filename in X_train_names:\n",
    "        img = plt.imread(filename)\n",
    "        if img is not None:\n",
    "            images.append(img)\n",
    "    return images"
   ]
  },
  {
   "cell_type": "code",
   "execution_count": 9,
   "metadata": {
    "collapsed": false
   },
   "outputs": [],
   "source": [
    "X_train_ft = np.asarray(load_images_from_folder(X_train_names_ft))"
   ]
  },
  {
   "cell_type": "code",
   "execution_count": 10,
   "metadata": {
    "collapsed": true
   },
   "outputs": [],
   "source": [
    "y_train_ft = ft_driving_log['Steering Angle'].values"
   ]
  },
  {
   "cell_type": "code",
   "execution_count": 11,
   "metadata": {
    "collapsed": true
   },
   "outputs": [],
   "source": [
    "def normalize_rgb(image_data):\n",
    "    max_val = 255\n",
    "    min_val = 0\n",
    "    a = -0.5\n",
    "    b = 0.5\n",
    "    \n",
    "    return a + ((image_data - min_val) * (b - a)) / (max_val - min_val)\n",
    "\n",
    "X_train_ft = normalize_rgb(X_train_ft)"
   ]
  },
  {
   "cell_type": "code",
   "execution_count": 12,
   "metadata": {
    "collapsed": true
   },
   "outputs": [],
   "source": [
    "from sklearn.model_selection import train_test_split\n",
    "\n",
    "X_train_ft, X_test_ft, y_train_ft, y_test_ft = train_test_split(X_train_ft, y_train_ft, test_size=0.25, random_state=13)"
   ]
  },
  {
   "cell_type": "code",
   "execution_count": 13,
   "metadata": {
    "collapsed": false
   },
   "outputs": [
    {
     "name": "stderr",
     "output_type": "stream",
     "text": [
      "Using TensorFlow backend.\n"
     ]
    },
    {
     "name": "stdout",
     "output_type": "stream",
     "text": [
      "Loaded model from disk\n"
     ]
    }
   ],
   "source": [
    "# MLP for Pima Indians Dataset serialize to JSON and HDF5\n",
    "import json\n",
    "from keras.models import Sequential\n",
    "from keras.layers import Dense\n",
    "from keras.models import model_from_json\n",
    "import numpy\n",
    "import os\n",
    "\n",
    "# load json and create model\n",
    "json_file = open('model.json', 'r')\n",
    "ft_model_json = json.loads(json_file.read())\n",
    "json_file.close()\n",
    "ft_model = model_from_json(ft_model_json)\n",
    "# load weights into new model\n",
    "ft_model.load_weights(\"model.h5\")\n",
    "print(\"Loaded model from disk\")"
   ]
  },
  {
   "cell_type": "code",
   "execution_count": 14,
   "metadata": {
    "collapsed": false
   },
   "outputs": [
    {
     "name": "stdout",
     "output_type": "stream",
     "text": [
      "Train on 542 samples, validate on 136 samples\n",
      "Epoch 1/5\n",
      "542/542 [==============================] - 3s - loss: 0.0206 - mean_squared_error: 0.0206 - val_loss: 0.0154 - val_mean_squared_error: 0.0154\n",
      "Epoch 2/5\n",
      "542/542 [==============================] - 2s - loss: 0.0180 - mean_squared_error: 0.0180 - val_loss: 0.0150 - val_mean_squared_error: 0.0150\n",
      "Epoch 3/5\n",
      "542/542 [==============================] - 2s - loss: 0.0178 - mean_squared_error: 0.0178 - val_loss: 0.0148 - val_mean_squared_error: 0.0148\n",
      "Epoch 4/5\n",
      "542/542 [==============================] - 2s - loss: 0.0192 - mean_squared_error: 0.0192 - val_loss: 0.0147 - val_mean_squared_error: 0.0147\n",
      "Epoch 5/5\n",
      "542/542 [==============================] - 2s - loss: 0.0197 - mean_squared_error: 0.0197 - val_loss: 0.0146 - val_mean_squared_error: 0.0146\n"
     ]
    }
   ],
   "source": [
    "from keras.optimizers import SGD, RMSprop, Adam\n",
    "\n",
    "# sgd = SGD(lr=0.001, decay=0.1, momentum=0.9, nesterov=True)\n",
    "# rms = RMSprop(lr=0.0001)\n",
    "\n",
    "adam = Adam(lr=0.000001, beta_1=0.9, beta_2=0.999, epsilon=1e-08, decay=0.1)\n",
    "\n",
    "ft_model.compile(loss='mean_squared_error', optimizer=adam, metrics=[\"mean_squared_error\"])\n",
    "history = ft_model.fit(X_train_ft, y_train_ft, batch_size=16, nb_epoch=5, validation_split=0.2)\n",
    "# history = model.fit(X_train, y_train, batch_size=batch_size, nb_epoch=10, verbose=1, validation_split=0.3)"
   ]
  },
  {
   "cell_type": "code",
   "execution_count": 15,
   "metadata": {
    "collapsed": false
   },
   "outputs": [
    {
     "name": "stdout",
     "output_type": "stream",
     "text": [
      "226/226 [==============================] - 0s     \n",
      "Test score (MSE):  [0.018108080655585695, 0.018108080655585695]\n",
      "predictions:  [[-0.02845112]\n",
      " [-0.00991601]\n",
      " [ 0.00375535]\n",
      " [ 0.01345983]\n",
      " [ 0.00874765]\n",
      " [ 0.1190468 ]\n",
      " [-0.01119138]\n",
      " [ 0.17105819]\n",
      " [-0.02077729]\n",
      " [-0.00374757]\n",
      " [ 0.10398643]\n",
      " [-0.01840652]\n",
      " [-0.00287744]\n",
      " [-0.00335364]\n",
      " [-0.00456724]\n",
      " [-0.0263858 ]\n",
      " [ 0.00104263]\n",
      " [ 0.09320861]\n",
      " [-0.00472504]\n",
      " [-0.00257948]\n",
      " [-0.03707062]\n",
      " [ 0.01123323]\n",
      " [ 0.00802351]\n",
      " [-0.00030356]\n",
      " [-0.0600503 ]\n",
      " [ 0.02151077]\n",
      " [ 0.00234454]\n",
      " [-0.00259226]\n",
      " [ 0.00840481]\n",
      " [-0.03599612]\n",
      " [ 0.0102901 ]\n",
      " [ 0.04407694]]\n",
      "actual:  [-0.09813455 -0.01962936  0.         -0.08693992  0.          0.3074819   0.\n",
      "  0.3224199   0.          0.          0.2700831  -0.09439113  0.          0.\n",
      "  0.         -0.2140385   0.          0.3336502  -0.1056214   0.         -0.1878701\n",
      "  0.          0.          0.         -0.1168161   0.2700831   0.1093649\n",
      " -0.06447928  0.          0.          0.          0.3224199 ]\n"
     ]
    }
   ],
   "source": [
    "score = ft_model.evaluate(X_test_ft, y_test_ft, batch_size=16)\n",
    "print('Test score (MSE): ', score)\n",
    "predictions = ft_model.predict(X_test_ft)\n",
    "print('predictions: ', predictions[:32])\n",
    "print('actual: ', y_test_ft[:32])"
   ]
  },
  {
   "cell_type": "code",
   "execution_count": 43,
   "metadata": {
    "collapsed": false
   },
   "outputs": [
    {
     "name": "stdout",
     "output_type": "stream",
     "text": [
      "dict_keys(['loss', 'val_loss'])\n"
     ]
    },
    {
     "data": {
      "image/png": "[encoded data removed]",
      "text/plain": [
       "<matplotlib.figure.Figure at 0x7efb869b5a20>"
      ]
     },
     "metadata": {},
     "output_type": "display_data"
    }
   ],
   "source": [
    "# list all data in history\n",
    "print(history.history.keys())\n",
    "# # summarize history for accuracy\n",
    "# plt.plot(history.history['loss'])\n",
    "# plt.plot(history.history['val_loss'])\n",
    "# plt.title('model loss')\n",
    "# plt.ylabel('loss')\n",
    "# plt.xlabel('epoch')\n",
    "# plt.legend(['train', 'val'], loc='upper left')\n",
    "# plt.show()\n",
    "# summarize history for loss\n",
    "plt.plot(history.history['loss'])\n",
    "plt.plot(history.history['val_loss'])\n",
    "plt.title('model loss')\n",
    "plt.ylabel('loss')\n",
    "plt.xlabel('epoch')\n",
    "plt.legend(['train', 'test'], loc='upper left')\n",
    "plt.show()"
   ]
  },
  {
   "cell_type": "code",
   "execution_count": 18,
   "metadata": {
    "collapsed": false
   },
   "outputs": [],
   "source": [
    "# with open('model_ft.json', 'w') as outfile:\n",
    "#     json.dump(ft_model.to_json(), outfile)\n",
    "    \n",
    "# ft_model.save_weights('model_ft.h5')"
   ]
  },
  {
   "cell_type": "code",
   "execution_count": 44,
   "metadata": {
    "collapsed": false
   },
   "outputs": [
    {
     "data": {
      "text/plain": [
       "(12254, 7)"
      ]
     },
     "execution_count": 44,
     "metadata": {},
     "output_type": "execute_result"
    }
   ],
   "source": [
    "import numpy as np\n",
    "import pandas as pd\n",
    "import os\n",
    "import matplotlib.pyplot as plt\n",
    "\n",
    "# Second Turn\n",
    "st_driving_log = pd.DataFrame.from_csv('./second_turn_data/driving_log.csv', index_col=None)\n",
    "st_driving_log.columns = ['Center Image', 'Left Image', 'Right Image', 'Steering Angle', 'Throttle', 'Break', 'Speed']\n",
    "\n",
    "st_driving_log.shape"
   ]
  },
  {
   "cell_type": "code",
   "execution_count": 2,
   "metadata": {
    "collapsed": false
   },
   "outputs": [],
   "source": [
    "def load_images_from_folder(X_train_names):\n",
    "    images = []\n",
    "    for filename in X_train_names:\n",
    "        img = plt.imread(filename)\n",
    "        if img is not None:\n",
    "            images.append(img)\n",
    "    return images\n",
    "\n",
    "X_train_names_st = st_driving_log['Center Image'].values.tolist()\n",
    "\n",
    "X_train_st = np.asarray(load_images_from_folder(X_train_names_st))\n",
    "y_train_st = st_driving_log['Steering Angle'].values"
   ]
  },
  {
   "cell_type": "code",
   "execution_count": 3,
   "metadata": {
    "collapsed": false
   },
   "outputs": [],
   "source": [
    "from sklearn.utils import shuffle\n",
    "\n",
    "def normalize_rgb(image_data):\n",
    "    max_val = 255\n",
    "    min_val = 0\n",
    "    a = -0.5\n",
    "    b = 0.5\n",
    "    \n",
    "    return a + ((image_data - min_val) * (b - a)) / (max_val - min_val)\n",
    "\n",
    "X_train_st = normalize_rgb(X_train_st)\n",
    "\n",
    "X_train_st, y_train_st = shuffle(X_train_st, y_train_st, random_state=13)"
   ]
  },
  {
   "cell_type": "code",
   "execution_count": 4,
   "metadata": {
    "collapsed": false
   },
   "outputs": [
    {
     "name": "stderr",
     "output_type": "stream",
     "text": [
      "Using TensorFlow backend.\n"
     ]
    },
    {
     "name": "stdout",
     "output_type": "stream",
     "text": [
      "Loaded model from disk\n"
     ]
    }
   ],
   "source": [
    "# MLP for Pima Indians Dataset serialize to JSON and HDF5\n",
    "import json\n",
    "from keras.models import Sequential\n",
    "from keras.layers import Dense\n",
    "from keras.models import model_from_json\n",
    "import numpy\n",
    "import os\n",
    "\n",
    "# load json and create model\n",
    "json_file = open('model_ft.json', 'r')\n",
    "st_model_json = json.loads(json_file.read())\n",
    "json_file.close()\n",
    "st_model = model_from_json(st_model_json)\n",
    "# load weights into new model\n",
    "st_model.load_weights(\"model_ft.h5\")\n",
    "print(\"Loaded model from disk\")"
   ]
  },
  {
   "cell_type": "code",
   "execution_count": 5,
   "metadata": {
    "collapsed": false
   },
   "outputs": [
    {
     "name": "stdout",
     "output_type": "stream",
     "text": [
      "Train on 10415 samples, validate on 1839 samples\n",
      "Epoch 1/5\n",
      "10415/10415 [==============================] - 39s - loss: 0.0091 - mean_squared_error: 0.0091 - val_loss: 0.0057 - val_mean_squared_error: 0.0057\n",
      "Epoch 2/5\n",
      "10415/10415 [==============================] - 37s - loss: 0.0076 - mean_squared_error: 0.0076 - val_loss: 0.0050 - val_mean_squared_error: 0.0050\n",
      "Epoch 3/5\n",
      "10415/10415 [==============================] - 37s - loss: 0.0073 - mean_squared_error: 0.0073 - val_loss: 0.0049 - val_mean_squared_error: 0.0049\n",
      "Epoch 4/5\n",
      "10415/10415 [==============================] - 37s - loss: 0.0071 - mean_squared_error: 0.0071 - val_loss: 0.0049 - val_mean_squared_error: 0.0049\n",
      "Epoch 5/5\n",
      "10415/10415 [==============================] - 37s - loss: 0.0069 - mean_squared_error: 0.0069 - val_loss: 0.0048 - val_mean_squared_error: 0.0048\n"
     ]
    }
   ],
   "source": [
    "from keras.optimizers import SGD, RMSprop, Adam\n",
    "\n",
    "# sgd = SGD(lr=0.001, decay=0.1, momentum=0.9, nesterov=True)\n",
    "# rms = RMSprop(lr=0.0001)\n",
    "\n",
    "adam = Adam(lr=0.0010, beta_1=0.9, beta_2=0.999, epsilon=1e-08, decay=0.1)\n",
    "\n",
    "st_model.compile(loss='mean_squared_error', optimizer=adam, metrics=[\"mean_squared_error\"])\n",
    "history = st_model.fit(X_train_st, y_train_st, batch_size=16, nb_epoch=5, validation_split=0.15)\n",
    "# history = model.fit(X_train, y_train, batch_size=batch_size, nb_epoch=10, verbose=1, validation_split=0.3)"
   ]
  },
  {
   "cell_type": "code",
   "execution_count": 6,
   "metadata": {
    "collapsed": false
   },
   "outputs": [],
   "source": [
    "with open('model_st.json', 'w') as outfile:\n",
    "    json.dump(st_model.to_json(), outfile)\n",
    "    \n",
    "st_model.save_weights('model_st.h5')"
   ]
  },
  {
   "cell_type": "code",
   "execution_count": null,
   "metadata": {
    "collapsed": true
   },
   "outputs": [],
   "source": []
  }
 ],
 "metadata": {
  "anaconda-cloud": {},
  "kernelspec": {
   "display_name": "Python [conda env:keras]",
   "language": "python",
   "name": "conda-env-keras-py"
  },
  "language_info": {
   "codemirror_mode": {
    "name": "ipython",
    "version": 3
   },
   "file_extension": ".py",
   "mimetype": "text/x-python",
   "name": "python",
   "nbconvert_exporter": "python",
   "pygments_lexer": "ipython3",
   "version": "3.5.2"
  }
 },
 "nbformat": 4,
 "nbformat_minor": 2
}
