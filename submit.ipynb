{
 "cells": [
  {
   "cell_type": "code",
   "execution_count": 1,
   "metadata": {
    "collapsed": false
   },
   "outputs": [
    {
     "name": "stderr",
     "output_type": "stream",
     "text": [
      "/home/calvinjku/anaconda3/envs/keras/lib/python3.5/site-packages/matplotlib/font_manager.py:273: UserWarning: Matplotlib is building the font cache using fc-list. This may take a moment.\n",
      "  warnings.warn('Matplotlib is building the font cache using fc-list. This may take a moment.')\n",
      "/home/calvinjku/anaconda3/envs/keras/lib/python3.5/site-packages/matplotlib/font_manager.py:273: UserWarning: Matplotlib is building the font cache using fc-list. This may take a moment.\n",
      "  warnings.warn('Matplotlib is building the font cache using fc-list. This may take a moment.')\n",
      "Using TensorFlow backend.\n"
     ]
    }
   ],
   "source": [
    "import numpy as np\n",
    "import pandas as pd\n",
    "import os\n",
    "import matplotlib.pyplot as plt\n",
    "import seaborn\n",
    "from IPython.display import display\n",
    "import cv2\n",
    "from keras.models import Sequential\n",
    "from keras.layers.core import Dense, Activation, Flatten, Dropout\n",
    "from keras.layers.convolutional import Convolution2D\n",
    "from keras.layers.pooling import MaxPooling2D\n",
    "from keras.layers.advanced_activations import ELU, LeakyReLU\n",
    "from keras.regularizers import l2, activity_l2"
   ]
  },
  {
   "cell_type": "code",
   "execution_count": 2,
   "metadata": {
    "collapsed": true
   },
   "outputs": [],
   "source": [
    "def load_images_from_folder(X_train_names):\n",
    "    images = []\n",
    "    for filename in X_train_names:\n",
    "        img = plt.imread(filename)\n",
    "        if img is not None:\n",
    "            images.append(img)\n",
    "    return images\n",
    "\n",
    "def load_data_from_folder(folder_name):\n",
    "    driving_log = pd.DataFrame.from_csv('./' + folder_name + '/driving_log.csv', index_col=None)\n",
    "    driving_log.columns = ['Center Image', 'Left Image', 'Right Image', 'Steering Angle', 'Throttle', 'Break', 'Speed']\n",
    "    \n",
    "    X_train_center = [\"./\" + folder_name + \"/\" + x for x in driving_log['Center Image'].values.tolist()]\n",
    "    X_train_center = np.asarray(load_images_from_folder(X_train_center))\n",
    "\n",
    "    X_train_left = [\"./\" + folder_name + \"/\" + x[1:] for x in driving_log['Left Image'].values.tolist()]\n",
    "    X_train_left = np.asarray(load_images_from_folder(X_train_left))\n",
    "\n",
    "    X_train_right = [\"./\" + folder_name + \"/\" + x[1:] for x in driving_log['Right Image'].values.tolist()]\n",
    "    X_train_right = np.asarray(load_images_from_folder(X_train_right))\n",
    "\n",
    "    X_train = np.concatenate((X_train_center, X_train_left, X_train_right), axis=0)\n",
    "\n",
    "    y_train = driving_log['Steering Angle'].values.tolist()\n",
    "\n",
    "    y_train_center = y_train\n",
    "    y_train_left = [x + 0.2 for x in y_train]\n",
    "    y_train_right = [x - 0.2 for x in y_train]\n",
    "    \n",
    "    y_train = np.asarray(y_train_center + y_train_left + y_train_right)\n",
    "    \n",
    "    return X_train, y_train"
   ]
  },
  {
   "cell_type": "code",
   "execution_count": null,
   "metadata": {
    "collapsed": false
   },
   "outputs": [],
   "source": [
    "X_train_my, y_train_my = load_data_from_folder('my_data')\n",
    "X_train_udacity, y_train_udacity = load_data_from_folder('udacity_data')"
   ]
  },
  {
   "cell_type": "code",
   "execution_count": 4,
   "metadata": {
    "collapsed": false
   },
   "outputs": [],
   "source": [
    "max_label = y_train_my.max()\n",
    "min_label = y_train_my.min()\n",
    "\n",
    "step_size = (max_label - min_label) / 20.\n",
    "\n",
    "data_in_bins = [[] for x in range(20)]\n",
    "\n",
    "for i, value in enumerate(y_train_my):\n",
    "    index = floor((((value - min_label) * 20) / (max_label - min_label) - 2))\n",
    "    data_in_bins[index].append(i)\n",
    "\n",
    "# Select indices from data_in_bin\n",
    "balance_index = []\n",
    "\n",
    "for b in data_in_bins:\n",
    "    i = 0\n",
    "    b_len = len(b)\n",
    "    \n",
    "    while i < b_len and i < 2000:\n",
    "        balance_index.append(b[i])\n",
    "        i += 1"
   ]
  },
  {
   "cell_type": "code",
   "execution_count": 5,
   "metadata": {
    "collapsed": true
   },
   "outputs": [],
   "source": [
    "X_train_balance, y_train_balance = X_train_my[balance_index], y_train_my[balance_index]"
   ]
  },
  {
   "cell_type": "code",
   "execution_count": 6,
   "metadata": {
    "collapsed": true
   },
   "outputs": [],
   "source": [
    "def crop_single_image(image):\n",
    "    return image[70:][:][:-20][:]\n",
    "\n",
    "def crop_sky_and_front_cover(image_data):\n",
    "    return np.apply_along_axis(crop_single_image, axis=1, arr=image_data)\n",
    "\n",
    "def normalize_single_image(image):\n",
    "    return (image - np.mean(image)) / (np.max(image) - np.min(image))\n",
    "\n",
    "def rgb_2_hsv_single_image(image):\n",
    "    return cv2.cvtColor(image, cv2.COLOR_RGB2HSV)\n",
    "\n",
    "def preprocess(image_data):\n",
    "    if len(image_data.shape) == 4:\n",
    "        # Crop data\n",
    "        cropped = crop_sky_and_front_cover(image_data)\n",
    "        \n",
    "        # Resize data\n",
    "        image_data_small = []\n",
    "        for image in cropped:\n",
    "            image_data_small.append(cv2.resize(image, (0,0), fx=0.5, fy=0.5))\n",
    "        \n",
    "        # HSV data\n",
    "        image_data_hsv = []\n",
    "        for image in image_data_small:\n",
    "            image_data_hsv.append(rgb_2_hsv_single_image(image))\n",
    "        \n",
    "        # Normalize data\n",
    "        image_data_normalized = []\n",
    "        for image in image_data_hsv:\n",
    "            image_data_normalized.append(normalize_single_image(image))\n",
    "        \n",
    "        image_data_normalized = np.asarray(image_data_normalized)\n",
    "    \n",
    "    elif len(image_data.shape) == 3:\n",
    "        # Crop data\n",
    "        cropped =  crop_single_image(image_data)\n",
    "        \n",
    "        # Resize data\n",
    "        small = cv2.resize(cropped, (0,0), fx=0.5, fy=0.5)\n",
    "            \n",
    "        # HSV data\n",
    "        image_data_hsv = rgb_2_hsv_single_image(small)\n",
    "        \n",
    "        # Normalize data\n",
    "        image_data_normalized = normalize_single_image(image_data_hsv)\n",
    "                                                 \n",
    "    else:\n",
    "        raise TypeError(\"Wrong image shape!\")\n",
    "    \n",
    "\n",
    "    return image_data_normalized"
   ]
  },
  {
   "cell_type": "code",
   "execution_count": 7,
   "metadata": {
    "collapsed": true
   },
   "outputs": [],
   "source": [
    "import random\n",
    "\n",
    "def batch_generator(features, labels, batch_size):\n",
    "    # Create empty arrays to contain batch of features and labels#\n",
    "    batch_features = np.zeros((batch_size, 35, 160, 3))\n",
    "    batch_labels = np.zeros((batch_size,),)\n",
    "    \n",
    "    while 1:\n",
    "        for i in range(batch_size):\n",
    "            #choose random index in features\n",
    "            index = random.randint(0, len(features) - 1)\n",
    "            \n",
    "            batch_features[i] = preprocess(features[index])\n",
    "            # For when image is gray and not having the redundant dim\n",
    "#             batch_features[i] = np.expand_dims(preprocess(features[index]), axis=2)\n",
    "            batch_labels[i] = labels[index]\n",
    "            \n",
    "        yield batch_features, batch_labels"
   ]
  },
  {
   "cell_type": "code",
   "execution_count": 8,
   "metadata": {
    "collapsed": false
   },
   "outputs": [
    {
     "name": "stderr",
     "output_type": "stream",
     "text": [
      "Using TensorFlow backend.\n"
     ]
    }
   ],
   "source": [
    "from keras.models import Sequential\n",
    "from keras.layers.core import Dense, Activation, Flatten, Dropout\n",
    "from keras.layers.convolutional import Convolution2D\n",
    "from keras.layers.pooling import MaxPooling2D\n",
    "from keras.layers.advanced_activations import ELU, LeakyReLU\n",
    "from keras.regularizers import l2, activity_l2\n",
    "\n",
    "def yadav_model(image_dim, conv_drop=0.2, fc_drop=0.5):\n",
    "    # image dim\n",
    "    row, col, channel = image_dim\n",
    "\n",
    "    model = Sequential()\n",
    "    \n",
    "    model.add(Convolution2D(3, 1, 1, input_shape=image_dim))\n",
    "    \n",
    "    model.add(Convolution2D(32, 3, 3))\n",
    "    model.add(Convolution2D(32, 3, 3))\n",
    "    model.add(MaxPooling2D((2, 2), border_mode='same'))\n",
    "    model.add(Dropout(conv_drop))\n",
    "    model.add(ELU())\n",
    "\n",
    "    model.add(Convolution2D(64, 3, 3))\n",
    "    model.add(Convolution2D(64, 3, 3))\n",
    "    model.add(MaxPooling2D((2, 2), border_mode='same'))\n",
    "    model.add(Dropout(conv_drop))\n",
    "    model.add(ELU())\n",
    "\n",
    "    model.add(Convolution2D(128, 3, 3))\n",
    "    model.add(Convolution2D(128, 3, 3))\n",
    "    model.add(MaxPooling2D((2, 2), border_mode='same'))\n",
    "    model.add(Dropout(conv_drop))\n",
    "    model.add(ELU())\n",
    "\n",
    "    model.add(Flatten())\n",
    "\n",
    "    model.add(Dense(512))\n",
    "    model.add(Dropout(fc_drop))\n",
    "    model.add(ELU())\n",
    "\n",
    "    model.add(Dense(64))\n",
    "    model.add(Dropout(0.5))\n",
    "    model.add(ELU())\n",
    "\n",
    "    model.add(Dense(16))\n",
    "    model.add(Dropout(0.5))\n",
    "    model.add(LeakyReLU())\n",
    "\n",
    "    model.add(Dense(1))\n",
    "    \n",
    "    return model"
   ]
  },
  {
   "cell_type": "code",
   "execution_count": 9,
   "metadata": {
    "collapsed": false
   },
   "outputs": [],
   "source": [
    "# import json\n",
    "# from keras.models import model_from_json\n",
    "\n",
    "# # load json and create model\n",
    "# json_file = open('model_report.json', 'r')\n",
    "# loaded_model_json = json.loads(json_file.read())\n",
    "# json_file.close()\n",
    "# model = model_from_json(loaded_model_json)\n",
    "# # load weights into new model\n",
    "# model.load_weights(\"model_report.h5\")\n",
    "# print(\"Loaded model from disk\")"
   ]
  },
  {
   "cell_type": "code",
   "execution_count": 16,
   "metadata": {
    "collapsed": true
   },
   "outputs": [],
   "source": [
    "model = yadav_model((35, 160, 3), conv_drop=0.6, fc_drop=0.75)"
   ]
  },
  {
   "cell_type": "code",
   "execution_count": 17,
   "metadata": {
    "collapsed": false,
    "scrolled": true
   },
   "outputs": [
    {
     "name": "stdout",
     "output_type": "stream",
     "text": [
      "Epoch 1/11\n",
      "20000/20000 [==============================] - 31s - loss: 0.1243 - val_loss: 0.0386\n",
      "Epoch 2/11\n",
      "20000/20000 [==============================] - 30s - loss: 0.0425 - val_loss: 0.0346\n",
      "Epoch 3/11\n",
      "20000/20000 [==============================] - 30s - loss: 0.0343 - val_loss: 0.0401\n",
      "Epoch 4/11\n",
      "20000/20000 [==============================] - 30s - loss: 0.0299 - val_loss: 0.0419\n",
      "Epoch 5/11\n",
      "20000/20000 [==============================] - 30s - loss: 0.0278 - val_loss: 0.0339\n",
      "Epoch 6/11\n",
      "20000/20000 [==============================] - 31s - loss: 0.0256 - val_loss: 0.0264\n",
      "Epoch 7/11\n",
      "20000/20000 [==============================] - 30s - loss: 0.0243 - val_loss: 0.0341\n",
      "Epoch 8/11\n",
      "20000/20000 [==============================] - 31s - loss: 0.0238 - val_loss: 0.0292\n",
      "Epoch 9/11\n",
      "20000/20000 [==============================] - 30s - loss: 0.0229 - val_loss: 0.0288\n",
      "Epoch 10/11\n",
      "20000/20000 [==============================] - 30s - loss: 0.0209 - val_loss: 0.0234\n",
      "Epoch 11/11\n",
      "20000/20000 [==============================] - 30s - loss: 0.0180 - val_loss: 0.0209\n"
     ]
    }
   ],
   "source": [
    "from keras.optimizers import Adam\n",
    "\n",
    "# initialize generators\n",
    "training_samples_gen = batch_generator(X_train_balance, y_train_balance, batch_size=100)\n",
    "validation_samples_gen = batch_generator(X_train_udacity, y_train_udacity, batch_size=100)\n",
    "\n",
    "adam = Adam(lr=0.001)\n",
    "model.compile(loss='mse', optimizer=adam)\n",
    "history = model.fit_generator(training_samples_gen, samples_per_epoch=20000, nb_epoch=11, verbose=1, validation_data=validation_samples_gen, nb_val_samples=24000)"
   ]
  },
  {
   "cell_type": "code",
   "execution_count": 18,
   "metadata": {
    "collapsed": false
   },
   "outputs": [
    {
     "name": "stdout",
     "output_type": "stream",
     "text": [
      "dict_keys(['val_loss', 'loss'])\n"
     ]
    },
    {
     "data": {
      "image/png": "[encoded data removed]",
      "text/plain": [
       "<matplotlib.figure.Figure at 0x7f233e7cafd0>"
      ]
     },
     "metadata": {},
     "output_type": "display_data"
    }
   ],
   "source": [
    "# list all data in history\n",
    "print(history.history.keys())\n",
    "\n",
    "# summarize history for loss\n",
    "plt.plot(history.history['loss'])\n",
    "plt.plot(history.history['val_loss'])\n",
    "plt.title('model loss')\n",
    "plt.ylabel('loss')\n",
    "plt.xlabel('epoch')\n",
    "plt.legend(['train', 'validation'], loc='upper left')\n",
    "plt.show()"
   ]
  },
  {
   "cell_type": "code",
   "execution_count": 19,
   "metadata": {
    "collapsed": true
   },
   "outputs": [],
   "source": [
    "# # TODO: Evaluate model on test data\n",
    "# metrics = model.evaluate(X_normalized_test, y_one_hot_test)\n",
    "# for metric_i in range(len(model.metrics_names)):\n",
    "#     metric_name = model.metrics_names[metric_i]\n",
    "#     metric_value = metrics[metric_i]\n",
    "#     print('{}: {}'.format(metric_name, metric_value))"
   ]
  },
  {
   "cell_type": "code",
   "execution_count": 20,
   "metadata": {
    "collapsed": false
   },
   "outputs": [
    {
     "name": "stdout",
     "output_type": "stream",
     "text": [
      "____________________________________________________________________________________________________\n",
      "Layer (type)                     Output Shape          Param #     Connected to                     \n",
      "====================================================================================================\n",
      "convolution2d_8 (Convolution2D)  (None, 35, 160, 3)    12          convolution2d_input_2[0][0]      \n",
      "____________________________________________________________________________________________________\n",
      "convolution2d_9 (Convolution2D)  (None, 33, 158, 32)   896         convolution2d_8[0][0]            \n",
      "____________________________________________________________________________________________________\n",
      "convolution2d_10 (Convolution2D) (None, 31, 156, 32)   9248        convolution2d_9[0][0]            \n",
      "____________________________________________________________________________________________________\n",
      "maxpooling2d_4 (MaxPooling2D)    (None, 16, 78, 32)    0           convolution2d_10[0][0]           \n",
      "____________________________________________________________________________________________________\n",
      "dropout_7 (Dropout)              (None, 16, 78, 32)    0           maxpooling2d_4[0][0]             \n",
      "____________________________________________________________________________________________________\n",
      "elu_6 (ELU)                      (None, 16, 78, 32)    0           dropout_7[0][0]                  \n",
      "____________________________________________________________________________________________________\n",
      "convolution2d_11 (Convolution2D) (None, 14, 76, 64)    18496       elu_6[0][0]                      \n",
      "____________________________________________________________________________________________________\n",
      "convolution2d_12 (Convolution2D) (None, 12, 74, 64)    36928       convolution2d_11[0][0]           \n",
      "____________________________________________________________________________________________________\n",
      "maxpooling2d_5 (MaxPooling2D)    (None, 6, 37, 64)     0           convolution2d_12[0][0]           \n",
      "____________________________________________________________________________________________________\n",
      "dropout_8 (Dropout)              (None, 6, 37, 64)     0           maxpooling2d_5[0][0]             \n",
      "____________________________________________________________________________________________________\n",
      "elu_7 (ELU)                      (None, 6, 37, 64)     0           dropout_8[0][0]                  \n",
      "____________________________________________________________________________________________________\n",
      "convolution2d_13 (Convolution2D) (None, 4, 35, 128)    73856       elu_7[0][0]                      \n",
      "____________________________________________________________________________________________________\n",
      "convolution2d_14 (Convolution2D) (None, 2, 33, 128)    147584      convolution2d_13[0][0]           \n",
      "____________________________________________________________________________________________________\n",
      "maxpooling2d_6 (MaxPooling2D)    (None, 1, 17, 128)    0           convolution2d_14[0][0]           \n",
      "____________________________________________________________________________________________________\n",
      "dropout_9 (Dropout)              (None, 1, 17, 128)    0           maxpooling2d_6[0][0]             \n",
      "____________________________________________________________________________________________________\n",
      "elu_8 (ELU)                      (None, 1, 17, 128)    0           dropout_9[0][0]                  \n",
      "____________________________________________________________________________________________________\n",
      "flatten_2 (Flatten)              (None, 2176)          0           elu_8[0][0]                      \n",
      "____________________________________________________________________________________________________\n",
      "dense_5 (Dense)                  (None, 512)           1114624     flatten_2[0][0]                  \n",
      "____________________________________________________________________________________________________\n",
      "dropout_10 (Dropout)             (None, 512)           0           dense_5[0][0]                    \n",
      "____________________________________________________________________________________________________\n",
      "elu_9 (ELU)                      (None, 512)           0           dropout_10[0][0]                 \n",
      "____________________________________________________________________________________________________\n",
      "dense_6 (Dense)                  (None, 64)            32832       elu_9[0][0]                      \n",
      "____________________________________________________________________________________________________\n",
      "dropout_11 (Dropout)             (None, 64)            0           dense_6[0][0]                    \n",
      "____________________________________________________________________________________________________\n",
      "elu_10 (ELU)                     (None, 64)            0           dropout_11[0][0]                 \n",
      "____________________________________________________________________________________________________\n",
      "dense_7 (Dense)                  (None, 16)            1040        elu_10[0][0]                     \n",
      "____________________________________________________________________________________________________\n",
      "dropout_12 (Dropout)             (None, 16)            0           dense_7[0][0]                    \n",
      "____________________________________________________________________________________________________\n",
      "leakyrelu_2 (LeakyReLU)          (None, 16)            0           dropout_12[0][0]                 \n",
      "____________________________________________________________________________________________________\n",
      "dense_8 (Dense)                  (None, 1)             17          leakyrelu_2[0][0]                \n",
      "====================================================================================================\n",
      "Total params: 1,435,533\n",
      "Trainable params: 1,435,533\n",
      "Non-trainable params: 0\n",
      "____________________________________________________________________________________________________\n"
     ]
    }
   ],
   "source": [
    "model.summary()"
   ]
  },
  {
   "cell_type": "code",
   "execution_count": 21,
   "metadata": {
    "collapsed": true
   },
   "outputs": [],
   "source": [
    "import json\n",
    "with open('model_report.json', 'w') as outfile:\n",
    "    json.dump(model.to_json(), outfile)\n",
    "\n",
    "model.save_weights('model_report.h5')"
   ]
  },
  {
   "cell_type": "code",
   "execution_count": null,
   "metadata": {
    "collapsed": true
   },
   "outputs": [],
   "source": []
  }
 ],
 "metadata": {
  "anaconda-cloud": {},
  "kernelspec": {
   "display_name": "Python [conda env:keras]",
   "language": "python",
   "name": "conda-env-keras-py"
  },
  "language_info": {
   "codemirror_mode": {
    "name": "ipython",
    "version": 3
   },
   "file_extension": ".py",
   "mimetype": "text/x-python",
   "name": "python",
   "nbconvert_exporter": "python",
   "pygments_lexer": "ipython3",
   "version": "3.5.2"
  }
 },
 "nbformat": 4,
 "nbformat_minor": 1
}
